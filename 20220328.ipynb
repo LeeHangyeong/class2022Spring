{
  "nbformat": 4,
  "nbformat_minor": 0,
  "metadata": {
    "colab": {
      "name": "20220328.ipynb",
      "provenance": [],
      "authorship_tag": "ABX9TyMPxK97H9BZaFJAUYrScnje",
      "include_colab_link": true
    },
    "kernelspec": {
      "name": "python3",
      "display_name": "Python 3"
    },
    "language_info": {
      "name": "python"
    }
  },
  "cells": [
    {
      "cell_type": "markdown",
      "metadata": {
        "id": "view-in-github",
        "colab_type": "text"
      },
      "source": [
        "<a href=\"https://colab.research.google.com/github/LeeHangyeong/class2022Spring/blob/main/20220328.ipynb\" target=\"_parent\"><img src=\"https://colab.research.google.com/assets/colab-badge.svg\" alt=\"Open In Colab\"/></a>"
      ]
    },
    {
      "cell_type": "code",
      "execution_count": null,
      "metadata": {
        "id": "EOlAMwse7NnH"
      },
      "outputs": [],
      "source": [
        "!pip install gradio\n",
        "import gradio as gr\n",
        "import requests\n",
        "import pandas as pd"
      ]
    },
    {
      "cell_type": "code",
      "source": [
        "URL = ('http://apis.data.go.kr/6300000/tourDataService/'\n",
        "      'tourDataListJson?'\n",
        "      'serviceKey=kD6i6Ub%2FXdBIUyV2wbk%2FrGzKccslsm%2B1U6PVZTLVm0LxHzrbCUeeaaP8k9VzQX%2BuR21qD1r6FP%2B77Sp7CEyJow%3D%3D'\n",
        "      '&numOfRows=10'\n",
        "      '&pageNo=1')\n",
        "response = requests.get(URL)"
      ],
      "metadata": {
        "id": "Xe6oS63gCKWF"
      },
      "execution_count": null,
      "outputs": []
    },
    {
      "cell_type": "code",
      "source": [
        "r = response.json()\n",
        "r"
      ],
      "metadata": {
        "id": "dDPx8X2HAuUJ"
      },
      "execution_count": null,
      "outputs": []
    },
    {
      "cell_type": "code",
      "source": [
        "items = r['msgBody']\n",
        "items[9]"
      ],
      "metadata": {
        "id": "NxbVD5pkLzGN",
        "colab": {
          "base_uri": "https://localhost:8080/"
        },
        "outputId": "29f19797-9b52-4f81-e8c2-c43fcfeadef3"
      },
      "execution_count": null,
      "outputs": [
        {
          "output_type": "execute_result",
          "data": {
            "text/plain": [
              "{'addr1': '대전광역시 대덕구 산디로 190',\n",
              " 'addr2': '(장동)',\n",
              " 'dCode': 'C0101',\n",
              " 'dLang': 'KO',\n",
              " 'expression': 'Y',\n",
              " 'hitCnt': '3510',\n",
              " 'id': 'TL0000989',\n",
              " 'idxImgName': 'S0320121.JPG',\n",
              " 'idxImgPath': 'FileUpload/TOU/201505/20150522114209652.JPG',\n",
              " 'imgIdx': '74402',\n",
              " 'keyword': '장동 산림욕장',\n",
              " 'name': '산디마을 생태공원 캠핑장',\n",
              " 'recommend': 'N',\n",
              " 'telCode': '070',\n",
              " 'telKuk': '4158',\n",
              " 'telNo': '3360',\n",
              " 'tourSeq': '1330',\n",
              " 'useYn': 'Y',\n",
              " 'zipcode': '306-110'}"
            ]
          },
          "metadata": {},
          "execution_count": 23
        }
      ]
    },
    {
      "cell_type": "code",
      "source": [
        "addr2 = [item['addr2'] for item in items]\n",
        "keyword = [item['keyword'] for item in items]\n",
        "name = [item['name'] for item in items]\n",
        "telCode = [item['telCode'] for item in items]\n",
        "telNo = [item['telNo'] for item in items]\n",
        "\n",
        "addr2 = pd.Series(addr2)\n",
        "keyword = pd.Series(keyword)\n",
        "name = pd.Series(name)\n",
        "telCode = pd.Series(telCode)\n",
        "telNo = pd.Series(telNo)\n",
        "\n",
        "df = pd.DataFrame({ 'addr2' : addr2, 'keyword' : keyword, 'name': name, 'telCode' : telCode, 'telNo' : telNo})"
      ],
      "metadata": {
        "id": "1n4KrHTXNiwS"
      },
      "execution_count": null,
      "outputs": []
    },
    {
      "cell_type": "code",
      "source": [
        "df"
      ],
      "metadata": {
        "id": "zedrO9W6zHdO"
      },
      "execution_count": null,
      "outputs": []
    },
    {
      "cell_type": "code",
      "source": [
        "def test(addr1):\n",
        "  URL = ('http://apis.data.go.kr/6300000/tourDataService/'\n",
        "         'tourDataListJson?'\n",
        "         'addr1='+addr1+\n",
        "         '&serviceKey=kD6i6Ub%2FXdBIUyV2wbk%2FrGzKccslsm%2B1U6PVZTLVm0LxHzrbCUeeaaP8k9VzQX%2BuR21qD1r6FP%2B77Sp7CEyJow%3D%3D'\n",
        "         '&numOfRows=10'\n",
        "         '&pageNo=1')\n",
        "  \n",
        "  response = requests.get(URL)\n",
        "  r = response.json()\n",
        "  items = r['msgBody']\n",
        "\n",
        "  addr2 = [item['addr2'] for item in items]\n",
        "  keyword = [item['keyword'] for item in items]\n",
        "  name = [item['name'] for item in items]\n",
        "  telCode = [item['telCode'] for item in items]\n",
        "  telNo = [item['telNo'] for item in items]\n",
        "\n",
        "  addr2 = pd.Series(addr2)\n",
        "  keyword = pd.Series(keyword)\n",
        "  name = pd.Series(name)\n",
        "  telCode = pd.Series(telCode)\n",
        "  telNo = pd.Series(telNo)\n",
        "\n",
        "  df = pd.DataFrame({  'addr2' : addr2, 'keyword' : keyword, 'name' : name, 'telCode' : telCode, 'telNo' : telNo}) \n",
        "  return df\n"
      ],
      "metadata": {
        "id": "zRHlQ6Tm1JYp"
      },
      "execution_count": null,
      "outputs": []
    },
    {
      "cell_type": "code",
      "source": [
        "iface = gr.Interface(test, gr.inputs.Dropdown(['대전광역시 서구 청사로 189', '대전광역시 동구 송촌남로11번길 116', '대전광역시 서구 장안로 461', '대전광역시 중구 뿌리공원로 79', '대전광역시 동구 산내로 748', '대전광역시 유성구 엑스포로97번길 40', '대전광역시 중구 보문산공원로 469', '대전광역시 대덕구 대청로424번길 200', '대전광역시 유성구 성북로 66-19', '대전광역시 대덕구 산디로 190',]), outputs=['dataframe'])\n",
        "iface.launch(debug=True)"
      ],
      "metadata": {
        "colab": {
          "base_uri": "https://localhost:8080/",
          "height": 665
        },
        "id": "-emewZWM3YDY",
        "outputId": "c1547bcb-ed1d-42ac-d3e2-ab1bcae3df2e"
      },
      "execution_count": null,
      "outputs": [
        {
          "output_type": "stream",
          "name": "stdout",
          "text": [
            "Colab notebook detected. This cell will run indefinitely so that you can see errors and logs. To turn off, set debug=False in launch().\n",
            "Running on public URL: https://50292.gradio.app\n",
            "\n",
            "This share link expires in 72 hours. For free permanent hosting, check out Spaces (https://huggingface.co/spaces)\n"
          ]
        },
        {
          "output_type": "display_data",
          "data": {
            "text/plain": [
              "<IPython.lib.display.IFrame at 0x7effd7c64050>"
            ],
            "text/html": [
              "\n",
              "        <iframe\n",
              "            width=\"900\"\n",
              "            height=\"500\"\n",
              "            src=\"https://50292.gradio.app\"\n",
              "            frameborder=\"0\"\n",
              "            allowfullscreen\n",
              "        ></iframe>\n",
              "        "
            ]
          },
          "metadata": {}
        },
        {
          "output_type": "stream",
          "name": "stdout",
          "text": [
            "Keyboard interruption in main thread... closing server.\n"
          ]
        },
        {
          "output_type": "execute_result",
          "data": {
            "text/plain": [
              "(<fastapi.applications.FastAPI at 0x7effe12bcb90>,\n",
              " 'http://127.0.0.1:7860/',\n",
              " 'https://50292.gradio.app')"
            ]
          },
          "metadata": {},
          "execution_count": 24
        }
      ]
    }
  ]
}