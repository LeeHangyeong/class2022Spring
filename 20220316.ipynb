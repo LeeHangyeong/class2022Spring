{
  "nbformat": 4,
  "nbformat_minor": 0,
  "metadata": {
    "colab": {
      "name": "20220316.ipynb",
      "provenance": [],
      "collapsed_sections": [],
      "authorship_tag": "ABX9TyMb2htc0EwbK0FGdje62okN",
      "include_colab_link": true
    },
    "kernelspec": {
      "name": "python3",
      "display_name": "Python 3"
    },
    "language_info": {
      "name": "python"
    }
  },
  "cells": [
    {
      "cell_type": "markdown",
      "metadata": {
        "id": "view-in-github",
        "colab_type": "text"
      },
      "source": [
        "<a href=\"https://colab.research.google.com/github/LeeHangyeong/class2022Spring/blob/main/20220316.ipynb\" target=\"_parent\"><img src=\"https://colab.research.google.com/assets/colab-badge.svg\" alt=\"Open In Colab\"/></a>"
      ]
    },
    {
      "cell_type": "code",
      "execution_count": null,
      "metadata": {
        "colab": {
          "base_uri": "https://localhost:8080/"
        },
        "id": "8D2pMogfeK7Z",
        "outputId": "0fa4b20b-29ec-48f6-eac6-60e86c1a5df0"
      },
      "outputs": [
        {
          "output_type": "stream",
          "name": "stdout",
          "text": [
            "<class 'list'>\n",
            "4\n"
          ]
        }
      ],
      "source": [
        "a = [1, 2, 3, 4]; print(type(a)); print(a[3])"
      ]
    },
    {
      "cell_type": "code",
      "source": [
        "a = 'apple'; print(type(a)); print(a[4])"
      ],
      "metadata": {
        "colab": {
          "base_uri": "https://localhost:8080/"
        },
        "id": "jRuxheRSk3R1",
        "outputId": "96252996-5e0e-4e19-8785-cde331ae0e09"
      },
      "execution_count": null,
      "outputs": [
        {
          "output_type": "stream",
          "name": "stdout",
          "text": [
            "<class 'str'>\n",
            "e\n"
          ]
        }
      ]
    },
    {
      "cell_type": "code",
      "source": [
        "def dog(a,b,c):\n",
        "  d = a+b+c\n",
        "  return d"
      ],
      "metadata": {
        "id": "s9UGDxnQlOh2"
      },
      "execution_count": null,
      "outputs": []
    },
    {
      "cell_type": "code",
      "source": [
        "x = dog(1,2,3); print(x)"
      ],
      "metadata": {
        "colab": {
          "base_uri": "https://localhost:8080/"
        },
        "id": "T0LQoZtWm-M9",
        "outputId": "bb1a6ac5-4d3f-4cd9-fc42-d439a0686519"
      },
      "execution_count": null,
      "outputs": [
        {
          "output_type": "stream",
          "name": "stdout",
          "text": [
            "6\n"
          ]
        }
      ]
    },
    {
      "cell_type": "code",
      "source": [
        "for i in range(0,2):\n",
        "  for j in range(5,7):\n",
        "    print(i*j)"
      ],
      "metadata": {
        "colab": {
          "base_uri": "https://localhost:8080/"
        },
        "id": "TWiXsmrJnTwk",
        "outputId": "3cc737f4-5eac-453e-b890-b53914b7a0c9"
      },
      "execution_count": null,
      "outputs": [
        {
          "output_type": "stream",
          "name": "stdout",
          "text": [
            "0\n",
            "0\n",
            "5\n",
            "6\n"
          ]
        }
      ]
    },
    {
      "cell_type": "code",
      "source": [
        "a = ['one','two','three','four']\n",
        "b = [1,2,3,4]\n",
        "c = {a[i]:b[i] for i in range(4)}\n",
        "print(c)"
      ],
      "metadata": {
        "colab": {
          "base_uri": "https://localhost:8080/"
        },
        "id": "Ih_ddV8EoaeM",
        "outputId": "011d4fbd-ddff-4dfe-ba71-d5c7119e331a"
      },
      "execution_count": null,
      "outputs": [
        {
          "output_type": "stream",
          "name": "stdout",
          "text": [
            "{'one': 1, 'two': 2, 'three': 3, 'four': 4}\n"
          ]
        }
      ]
    },
    {
      "cell_type": "code",
      "source": [
        "import numpy as np"
      ],
      "metadata": {
        "id": "Y_ewhjjNpt5u"
      },
      "execution_count": null,
      "outputs": []
    },
    {
      "cell_type": "code",
      "source": [
        "x = np.arange(0,10,3)\n",
        "print(x)\n",
        "print(x.shape)"
      ],
      "metadata": {
        "colab": {
          "base_uri": "https://localhost:8080/"
        },
        "id": "6_ONLGcppy1a",
        "outputId": "c895e27a-0e71-4388-cb0b-e6e2b460f923"
      },
      "execution_count": null,
      "outputs": [
        {
          "output_type": "stream",
          "name": "stdout",
          "text": [
            "[0 3 6 9]\n",
            "(4,)\n"
          ]
        }
      ]
    },
    {
      "cell_type": "code",
      "source": [
        "x = np.linspace(0,20,10)\n",
        "print(x)\n",
        "print(x.shape)"
      ],
      "metadata": {
        "colab": {
          "base_uri": "https://localhost:8080/"
        },
        "id": "sVn7kGJ-qP9B",
        "outputId": "aad3df6a-2fba-4a65-87eb-9b3a2e7552de"
      },
      "execution_count": null,
      "outputs": [
        {
          "output_type": "stream",
          "name": "stdout",
          "text": [
            "[ 0.          2.22222222  4.44444444  6.66666667  8.88888889 11.11111111\n",
            " 13.33333333 15.55555556 17.77777778 20.        ]\n",
            "(10,)\n"
          ]
        }
      ]
    },
    {
      "cell_type": "code",
      "source": [
        "x = np.array([[1,2,3], [4,5,6]])\n",
        "print(x)\n",
        "print(x.shape)\n"
      ],
      "metadata": {
        "colab": {
          "base_uri": "https://localhost:8080/"
        },
        "id": "fOuMRITUqnNN",
        "outputId": "57c80270-695d-4d49-e34d-4fdfd9e85c8b"
      },
      "execution_count": null,
      "outputs": [
        {
          "output_type": "stream",
          "name": "stdout",
          "text": [
            "[[1 2 3]\n",
            " [4 5 6]]\n",
            "(2, 3)\n"
          ]
        }
      ]
    },
    {
      "cell_type": "code",
      "source": [
        "import matplotlib.pyplot as plt"
      ],
      "metadata": {
        "id": "wt6G8rkjrQCC"
      },
      "execution_count": null,
      "outputs": []
    },
    {
      "cell_type": "code",
      "source": [
        "z = np.random.normal(0,1,50)\n",
        "print(z)\n",
        "plt.hist(z, bins=10)"
      ],
      "metadata": {
        "colab": {
          "base_uri": "https://localhost:8080/",
          "height": 519
        },
        "id": "RUD4hXnJs5yJ",
        "outputId": "f5dbc15e-268d-45ce-a526-905aa029f976"
      },
      "execution_count": null,
      "outputs": [
        {
          "output_type": "stream",
          "name": "stdout",
          "text": [
            "[-0.70303904  0.71879334 -0.2569761  -1.29173702 -0.36327003 -0.10647193\n",
            " -0.87119928 -0.57973507 -0.06039261  1.14265431 -0.31557283 -0.01185256\n",
            "  1.63131701 -0.71690347 -0.59207193  0.03707704 -1.12957723  2.12883769\n",
            "  0.29605992  0.418473   -1.42105505 -1.24785001  2.72676328 -0.59204635\n",
            " -0.17131395 -0.05463215 -0.02814754 -0.07497031  0.78307911 -0.19785017\n",
            "  0.68326063  1.69300635  1.16366407  2.076078   -1.31359768 -0.99182329\n",
            "  0.27549249 -0.64146064 -1.51526892  0.68524056  0.73496376 -0.33573285\n",
            " -0.79412508  0.10315619  0.0440984  -1.27357986 -0.37189235  0.73458991\n",
            " -0.51804744  0.46089521]\n"
          ]
        },
        {
          "output_type": "execute_result",
          "data": {
            "text/plain": [
              "(array([ 7.,  5., 10., 11.,  4.,  6.,  2.,  2.,  2.,  1.]),\n",
              " array([-1.51526892, -1.0910657 , -0.66686248, -0.24265926,  0.18154396,\n",
              "         0.60574718,  1.0299504 ,  1.45415362,  1.87835684,  2.30256006,\n",
              "         2.72676328]),\n",
              " <a list of 10 Patch objects>)"
            ]
          },
          "metadata": {},
          "execution_count": 21
        },
        {
          "output_type": "display_data",
          "data": {
            "text/plain": [
              "<Figure size 432x288 with 1 Axes>"
            ],
            "image/png": "[encoded data removed]"
          },
          "metadata": {
            "needs_background": "light"
          }
        }
      ]
    }
  ]
}